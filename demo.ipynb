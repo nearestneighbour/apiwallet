{
 "cells": [
  {
   "cell_type": "markdown",
   "metadata": {},
   "source": [
    "# Creating accounts\n",
    "Let's create a wallet, import several accounts to monitor and display the total wallet balance. Start by importing the wallet class and the relevant account classes:"
   ]
  },
  {
   "cell_type": "code",
   "execution_count": 16,
   "metadata": {},
   "outputs": [],
   "source": [
    "from wallet import wallet\n",
    "from btc_address import btc_address\n",
    "from eth_address import eth_address\n",
    "from bitmex_account import bitmex_account"
   ]
  },
  {
   "cell_type": "markdown",
   "metadata": {},
   "source": [
    "Now let's create some account instances that we want to monitor. For this example, we'll create an account for a Bitcoin address, an Ethereum address and a Bitmex account, using the btc_address, eth_address and bitmex_account classes respectively. The Bitcoin address will, plain and simple, fetch it's current balance. The Ethereum address will do the same as well as load the balances of any ERC-20 tokens associated with the address. The Bitmex address will produce the total worth of the Bitmex account, i.e. the sum of the wallet balance and the unrealized profits, in BTC.\n",
    "\n",
    "Note: the public keys shown here are random public keys that happen to have a non-zero balance, I don't know who owns these addresses. The Bitmex account is a testnet account where you can only use testnet Bitcoin - for more info see: https://testnet.bitmex.com/"
   ]
  },
  {
   "cell_type": "code",
   "execution_count": 17,
   "metadata": {},
   "outputs": [],
   "source": [
    "btc_hot = btc_address(pubkey='3PbJsixkjmjzsjCpi4xAYxxaL5NnxrbF9B', meta={'name':'BTC hot wallet'})\n",
    "eth_cold = eth_address(pubkey='0xd7b9a9b2f665849c4071ad5af77d8c76aa30fb32', meta={'name':'ETH cold storage'})\n",
    "#bitmex = bitmex_account(api_key='ddd', api_secret='ddd', testnet=True)"
   ]
  },
  {
   "cell_type": "markdown",
   "metadata": {},
   "source": [
    "When initializing the account classes, the first parameter(s) are some kind of identification, public keys in the case of btc_address and eth_address, and API credentials for bitmex_account. This information is necessary for access to the relevant data. The meta parameter is an optional argument that can be used to pass extra information about the account that can be used for bookkeeping. In this example, it is indicated that the btc_address instance holds the public key of a BTC address used as a hot wallet, while the eth_address instance stores data for our ETH hot wallet. For the Bitmex account, we don't provide metadata, but we do specify that we are talking about a testnet account with the last parameter."
   ]
  },
  {
   "cell_type": "markdown",
   "metadata": {},
   "source": [
    "Now we have three Account instances that can retrieve balance data for us. To print the balances of these accounts we use the following commands:"
   ]
  },
  {
   "cell_type": "code",
   "execution_count": 18,
   "metadata": {},
   "outputs": [
    {
     "name": "stdout",
     "output_type": "stream",
     "text": [
      "{'BTC': 10.14780667}\n",
      "{'ETH': 21926.149792322372}\n"
     ]
    }
   ],
   "source": [
    "print(btc_hot.balance) # show amount of BTC associated with address\n",
    "print(eth_cold.balance) # show combined worth of ETH and ERC-20 tokens associated with address\n",
    "#print(bitmex.balance) # show total worth of Bitmex account, in BTC"
   ]
  },
  {
   "cell_type": "markdown",
   "metadata": {},
   "source": [
    "This shows the accounts' balances in their native currency, which is BTC for the Bitcoin and Bitmex accounts, and ETH for the ETH account. Most account classes that don't have BTC as their native currency have an easy way to convert their native currency to BTC:"
   ]
  },
  {
   "cell_type": "code",
   "execution_count": 19,
   "metadata": {},
   "outputs": [
    {
     "name": "stdout",
     "output_type": "stream",
     "text": [
      "{'ETH': 692.8663334373871}\n"
     ]
    }
   ],
   "source": [
    "print(eth_cold.balance_curr('BTC'))"
   ]
  },
  {
   "cell_type": "markdown",
   "metadata": {},
   "source": [
    "An ETH address can contain multiple balances, not just ETH but token balances as well. We can list the balances separately for each currency by requesting the extended balance:"
   ]
  },
  {
   "cell_type": "code",
   "execution_count": 22,
   "metadata": {},
   "outputs": [
    {
     "name": "stdout",
     "output_type": "stream",
     "text": [
      "{'ETH': 14459.897860562785, 'KICK': 97871331.37363, 'ZRX': 63514.398612719, 'GNT': 195766.21387994, 'DXT': 6650497.0036424, 'STQ': 171313436.75485003, 'OMG': 24281.325266648, 'HBZ': 257331130.52983, 'GUSD': 2959.21, 'DAI': 7713.44764353, 'MKR': 11.1695158}\n"
     ]
    }
   ],
   "source": [
    "print(eth_cold.balance_extended"
   ]
  },
  {
   "cell_type": "markdown",
   "metadata": {},
   "source": [
    "And convert these balances to the native currency of the Account instance so we can easily compare them:"
   ]
  },
  {
   "cell_type": "code",
   "execution_count": 24,
   "metadata": {},
   "outputs": [
    {
     "name": "stdout",
     "output_type": "stream",
     "text": [
      "{'ETH': 14462.315283102784, 'KICK': 4803.222480806482, 'ZRX': 189.9277269450702, 'GNT': 114.66375725147387, 'DXT': 160.4211447924587, 'STQ': 584.009504028222, 'OMG': 304.93138029006946, 'HBZ': 1114.8391117971084, 'GUSD': 26.04509769043326, 'DAI': 67.75539924589545, 'MKR': 44.78155260793223}\n"
     ]
    }
   ],
   "source": [
    "print(eth_cold.balance_extended_native"
   ]
  },
  {
   "cell_type": "markdown",
   "metadata": {},
   "source": [
    "# Creating a wallet\n",
    "The next step is to put these three together in a Wallet instance so that we can easily see the combined worth, both denominated in the accounts' native currency or in BTC:"
   ]
  },
  {
   "cell_type": "code",
   "execution_count": 21,
   "metadata": {},
   "outputs": [
    {
     "name": "stdout",
     "output_type": "stream",
     "text": [
      "{'BTC': 10.14780667, 'ETH': 21926.149792322372}\n",
      "{'BTC': 10.14780667, 'ETH': 692.8663334373871}\n"
     ]
    }
   ],
   "source": [
    "w = wallet(btc_hot, eth_cold)#, bitmex)\n",
    "print(w.balance)"
   ]
  },
  {
   "cell_type": "markdown",
   "metadata": {},
   "source": [
    "The Wallet class also has a function to retrieve BTC/USD and BTC/EUR prices so it can show it's balances denominated in those currencies:"
   ]
  },
  {
   "cell_type": "code",
   "execution_count": 25,
   "metadata": {},
   "outputs": [
    {
     "name": "stdout",
     "output_type": "stream",
     "text": [
      "{'BTC': 9.90024829, 'ETH': 697.089719416841}\n"
     ]
    }
   ],
   "source": [
    "print(w.balance_btc)"
   ]
  },
  {
   "cell_type": "code",
   "execution_count": null,
   "metadata": {},
   "outputs": [],
   "source": []
  }
 ],
 "metadata": {
  "kernelspec": {
   "display_name": "Python 3",
   "language": "python",
   "name": "python3"
  },
  "language_info": {
   "codemirror_mode": {
    "name": "ipython",
    "version": 3
   },
   "file_extension": ".py",
   "mimetype": "text/x-python",
   "name": "python",
   "nbconvert_exporter": "python",
   "pygments_lexer": "ipython3",
   "version": "3.6.7"
  }
 },
 "nbformat": 4,
 "nbformat_minor": 2
}
