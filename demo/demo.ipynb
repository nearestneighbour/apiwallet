{
 "cells": [
  {
   "cell_type": "markdown",
   "metadata": {},
   "source": [
    "# Creating accounts\n",
    "Let's create a wallet, import several accounts to monitor and display the total wallet balance. Start by importing the wallet class and the relevant account classes:"
   ]
  },
  {
   "cell_type": "code",
   "execution_count": 1,
   "metadata": {},
   "outputs": [],
   "source": [
    "# This is necessary to be able to import the libraries from the other folders in the Github repo\n",
    "import sys\n",
    "sys.path.append('../')\n",
    "\n",
    "from wallet import Wallet\n",
    "from accounts.btc_address import btc_address\n",
    "from accounts.eth_address import eth_address\n",
    "from accounts.eos_account import eos_account"
   ]
  },
  {
   "cell_type": "markdown",
   "metadata": {},
   "source": [
    "Now let's create some account instances that we want to monitor. For this example, we'll create an account for a Bitcoin address, an Ethereum address and a Bitmex account, using the btc_address, eth_address and bitmex_account classes respectively. The Bitcoin address will, plain and simple, fetch it's current balance. The Ethereum address will do the same as well as load the balances of any ERC-20 tokens associated with the address. The Bitmex address will produce the total worth of the Bitmex account, i.e. the sum of the wallet balance and the unrealized profits, in BTC.\n",
    "\n",
    "Note: the examples shown here are random addresses/accounts that happen to have a non-zero balance, I don't know who owns these."
   ]
  },
  {
   "cell_type": "code",
   "execution_count": 2,
   "metadata": {},
   "outputs": [],
   "source": [
    "btc_acc = btc_address(pubkey='3PbJsixkjmjzsjCpi4xAYxxaL5NnxrbF9B', meta={'name':'BTC hot wallet'})\n",
    "eth_acc = eth_address(pubkey='0xd7b9a9b2f665849c4071ad5af77d8c76aa30fb32', meta={'name':'ETH cold storage'})\n",
    "eos_acc = eos_account(accname='pokereosgame')"
   ]
  },
  {
   "cell_type": "markdown",
   "metadata": {},
   "source": [
    "When initializing the account classes, the first parameter(s) is/are some kind of identification, public keys in the case of btc_address and eth_address, an account name in the case of EOS, and API credentials for an exchange account (not shown here). This information is necessary for access to the relevant data. The meta parameter is an optional argument that can be used to pass extra information about the account that can be used for bookkeeping - for example to indicate that the Bitcoin address is a hot wallet, and the ETH address is a cold wallet."
   ]
  },
  {
   "cell_type": "markdown",
   "metadata": {},
   "source": [
    "Now we have three Account instances that can retrieve balance data for us. To print the balances of these accounts we use the following commands:"
   ]
  },
  {
   "cell_type": "code",
   "execution_count": 3,
   "metadata": {
    "scrolled": true
   },
   "outputs": [
    {
     "name": "stdout",
     "output_type": "stream",
     "text": [
      "{'BTC': 10.08525217}\n",
      "{'ETH': 3481279.939197922}\n",
      "{'EOS': 114880.98840336454}\n"
     ]
    }
   ],
   "source": [
    "print(btc_acc.balance) # show amount of BTC associated with address\n",
    "print(eth_acc.balance) # show combined worth of ETH and ERC-20 tokens associated with address\n",
    "print(eos_acc.balance) # show ...."
   ]
  },
  {
   "cell_type": "markdown",
   "metadata": {},
   "source": [
    "This shows the accounts' balances in their native currency, which is BTC for the Bitcoin and Bitmex accounts, and ETH for the ETH account. When looking up the ETH address on etherscan.io ([link](https://etherscan.io/address/0xd7b9a9b2f665849c4071ad5af77d8c76aa30fb32)) you see that the ETH balance of the address is different than the balance displayed above. This is because the `balance` command includes the worth of all ERC-20 tokens associated with the account, converts it to ETH and adds it to the balance. If you want to separate the balances for each token associated with the account, use the following command:"
   ]
  },
  {
   "cell_type": "code",
   "execution_count": 6,
   "metadata": {},
   "outputs": [
    {
     "name": "stdout",
     "output_type": "stream",
     "text": [
      "{'ETH': 17280.455077418, 'KICK': 609113.7053892427, 'ZRX': 489.9477043087727, 'GNT': 1307.291580043992, 'DXT': 35503.45447776122, 'STQ': 1141927.1178462524, 'OMG': 168.78379851421232, 'HBZ': 1675386.9610588273, 'GUSD': 16.964613704964357, 'DAI': 85.16386008303897, 'MKR': 0.09379176546143471}\n"
     ]
    }
   ],
   "source": [
    "print(eth_acc.balance_extended)"
   ]
  },
  {
   "cell_type": "markdown",
   "metadata": {},
   "source": [
    "Same goes for the EOS account, which besides liquid EOS, also has EOS staked for CPU/NET, and has RAM and tokens associated with it:"
   ]
  },
  {
   "cell_type": "code",
   "execution_count": 7,
   "metadata": {},
   "outputs": [
    {
     "name": "stdout",
     "output_type": "stream",
     "text": [
      "{'EOS': 39477.3152, 'CPU': 10.5, 'NET': 91.5, 'DEL': 0.0, 'RAM': 8707384.0, 'PKE': 201086.3327, 'IQ': 1.0, 'BG': 76.8, 'EETH': 502.0}\n"
     ]
    }
   ],
   "source": [
    "print(eos_acc.balance_extended)"
   ]
  },
  {
   "cell_type": "markdown",
   "metadata": {},
   "source": [
    "To get a better idea of the worth of the crypto associated with "
   ]
  },
  {
   "cell_type": "markdown",
   "metadata": {},
   "source": [
    "Most account classes that don't have BTC as their native currency have an easy way to convert their native currency to BTC:"
   ]
  },
  {
   "cell_type": "code",
   "execution_count": 8,
   "metadata": {},
   "outputs": [
    {
     "name": "stdout",
     "output_type": "stream",
     "text": [
      "{'ETH': 134272.96725486385}\n",
      "{'EOS': 81.10597781277536}\n"
     ]
    }
   ],
   "source": [
    "print(eth_acc.balance_curr('BTC'))\n",
    "print(eos_acc.balance_curr('BTC'))"
   ]
  },
  {
   "cell_type": "markdown",
   "metadata": {},
   "source": [
    "An ETH address can contain multiple balances, not just ETH but token balances as well. We can list the balances separately for each currency by requesting the extended balance:"
   ]
  },
  {
   "cell_type": "code",
   "execution_count": 8,
   "metadata": {},
   "outputs": [
    {
     "name": "stdout",
     "output_type": "stream",
     "text": [
      "{'ETH': 12986.445649498, 'KICK': 685243.4450411269, 'ZRX': 469.9579112901534, 'GNT': 1443.9166092339578, 'DXT': 49052.19799116683, 'STQ': 1270961.32729643, 'OMG': 179.09223533447408, 'HBZ': 1934909.4374526476, 'GUSD': 42.96636672075527, 'DAI': 56.89222336281162, 'MKR': 0.08238321138811033}\n"
     ]
    }
   ],
   "source": [
    "print(eth_cold.balance_extended_native)"
   ]
  },
  {
   "cell_type": "markdown",
   "metadata": {},
   "source": [
    "# Creating a wallet\n",
    "The next step is to put these three together in a Wallet instance so that we can easily see the combined worth, both denominated in the accounts' native currency or in BTC:"
   ]
  },
  {
   "cell_type": "code",
   "execution_count": 9,
   "metadata": {},
   "outputs": [
    {
     "name": "stdout",
     "output_type": "stream",
     "text": [
      "{'BTC': 12.80128069, 'ETH': 3955345.7611600226}\n"
     ]
    }
   ],
   "source": [
    "w = Wallet(btc_hot, eth_cold)#, bitmex)\n",
    "print(w.balance)"
   ]
  },
  {
   "cell_type": "markdown",
   "metadata": {},
   "source": [
    "The Wallet class also has a function to retrieve BTC/USD and BTC/EUR prices so it can show it's balances denominated in those currencies:"
   ]
  },
  {
   "cell_type": "code",
   "execution_count": 10,
   "metadata": {},
   "outputs": [
    {
     "name": "stdout",
     "output_type": "stream",
     "text": [
      "{'BTC': 12.80128069, 'ETH': 137843.79977642678}\n"
     ]
    }
   ],
   "source": [
    "print(w.balance_btc)"
   ]
  },
  {
   "cell_type": "code",
   "execution_count": null,
   "metadata": {},
   "outputs": [],
   "source": []
  },
  {
   "cell_type": "code",
   "execution_count": null,
   "metadata": {},
   "outputs": [],
   "source": []
  }
 ],
 "metadata": {
  "kernelspec": {
   "display_name": "Python 3",
   "language": "python",
   "name": "python3"
  },
  "language_info": {
   "codemirror_mode": {
    "name": "ipython",
    "version": 3
   },
   "file_extension": ".py",
   "mimetype": "text/x-python",
   "name": "python",
   "nbconvert_exporter": "python",
   "pygments_lexer": "ipython3",
   "version": "3.6.7"
  }
 },
 "nbformat": 4,
 "nbformat_minor": 2
}
