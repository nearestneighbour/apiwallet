{
 "cells": [
  {
   "cell_type": "markdown",
   "metadata": {},
   "source": [
    "# Creating accounts\n",
    "Let's create a wallet, import several accounts to monitor and display the total wallet balance. Start by importing the wallet class and the relevant account classes:"
   ]
  },
  {
   "cell_type": "code",
   "execution_count": 23,
   "metadata": {},
   "outputs": [],
   "source": [
    "# This is necessary to be able to import the libraries from the other folders in the Github repo\n",
    "import sys\n",
    "sys.path.append('../')\n",
    "\n",
    "from wallet import Wallet\n",
    "from accounts.btc_address import btc_address\n",
    "from accounts.eth_address import eth_address\n",
    "from accounts.eos_account import eos_account"
   ]
  },
  {
   "cell_type": "markdown",
   "metadata": {},
   "source": [
    "Now let's create some account instances that we want to monitor. For this example, we'll create an account for a Bitcoin address, an Ethereum address and a Bitmex account, using the btc_address, eth_address and bitmex_account classes respectively. The Bitcoin address will, plain and simple, fetch it's current balance. The Ethereum address will do the same as well as load the balances of any ERC-20 tokens associated with the address. The Bitmex address will produce the total worth of the Bitmex account, i.e. the sum of the wallet balance and the unrealized profits, in BTC.\n",
    "\n",
    "Note: the examples shown here are random addresses/accounts that happen to have a non-zero balance, I don't know who owns these."
   ]
  },
  {
   "cell_type": "code",
   "execution_count": 24,
   "metadata": {},
   "outputs": [],
   "source": [
    "btc_acc = btc_address(pubkey='3PbJsixkjmjzsjCpi4xAYxxaL5NnxrbF9B', meta={'name':'BTC hot wallet'})\n",
    "eth_acc = eth_address(pubkey='0xd7b9a9b2f665849c4071ad5af77d8c76aa30fb32', meta={'name':'ETH cold storage'})\n",
    "eos_acc = eos_account(accname='pokereosgame')"
   ]
  },
  {
   "cell_type": "markdown",
   "metadata": {},
   "source": [
    "When initializing the account classes, the first parameter(s) is/are some kind of identification, public keys in the case of btc_address and eth_address, an account name in the case of EOS, and API credentials for an exchange account (not shown here). This information is necessary for access to the relevant data. The meta parameter is an optional argument that can be used to pass extra information about the account that can be used for bookkeeping - for example to indicate that the Bitcoin address is a hot wallet, and the ETH address is a cold wallet."
   ]
  },
  {
   "cell_type": "markdown",
   "metadata": {},
   "source": [
    "Now we have three Account instances that can retrieve balance data for us. To print the total worth of these accounts we use the following commands:"
   ]
  },
  {
   "cell_type": "code",
   "execution_count": 25,
   "metadata": {},
   "outputs": [
    {
     "name": "stdout",
     "output_type": "stream",
     "text": [
      "10.55438573\n",
      "23923.444970894885\n",
      "46296.59757579294\n"
     ]
    }
   ],
   "source": [
    "print(btc_acc.total_native())\n",
    "print(eth_acc.total_native())\n",
    "print(eos_acc.total_native())"
   ]
  },
  {
   "cell_type": "markdown",
   "metadata": {},
   "source": [
    "The balances are converted to the accounts' native currency, which is BTC for the BTC address, ETH for the ETH address, and so on. Exchange accounts generally also have BTC as their native currency. While BTC addresses are easy to understand, having only one balance, an ETH address can have all kinds of tokens associated with it. The same goes for an EOS account, which aside from tokens also has CPU, NET, and RAM and Delegated EOS (DEL). In order to get a more detailed overview of the \"smart contract\" accounts we can use the following commands to list the balances of all currencies associated with the accounts:"
   ]
  },
  {
   "cell_type": "code",
   "execution_count": 26,
   "metadata": {
    "scrolled": false
   },
   "outputs": [
    {
     "name": "stdout",
     "output_type": "stream",
     "text": [
      "{'ETH': 18333.001088528, 'KICK': 95185299.331471, 'ZRX': 76289.757037919, 'GNT': 203861.67124765, 'DXT': 5528242.8967322, 'STQ': 181674610.26384, 'OMG': 26281.325266648, 'HBZ': 261072503.70646998, 'GUSD': 3365.6, 'DAI': 14005.959513529999, 'MKR': 14.6043158}\n",
      "{'EOS': 43596.1332, 'CPU': 10.5, 'NET': 91.5, 'DEL': 0.0, 'RAM': 8619434.0, 'PKE': 211048.5131}\n"
     ]
    }
   ],
   "source": [
    "print(eth_acc.balance())\n",
    "print(eos_acc.balance())"
   ]
  },
  {
   "cell_type": "markdown",
   "metadata": {},
   "source": [
    "To see how the actual value is distributed within the accounts, we can convert the balances to the accounts' native currencies:"
   ]
  },
  {
   "cell_type": "code",
   "execution_count": 27,
   "metadata": {},
   "outputs": [
    {
     "name": "stdout",
     "output_type": "stream",
     "text": [
      "{'ETH': 18333.001088528, 'KICK': 3498.717763748776, 'ZRX': 162.79889447460639, 'GNT': 95.69844302449042, 'DXT': 99.87492097019911, 'STQ': 463.85746192458737, 'OMG': 260.54068625692463, 'HBZ': 847.1158852170571, 'GUSD': 22.083450812296093, 'DAI': 92.03297203976626, 'MKR': 47.723403898176095}\n",
      "{'EOS': 43596.1332, 'CPU': 10.5, 'NET': 91.5, 'DEL': 0.0, 'RAM': 513.3050663649439, 'PKE': 2085.159309428}\n"
     ]
    }
   ],
   "source": [
    "print(eth_acc.balance_native())\n",
    "print(eos_acc.balance_native())"
   ]
  },
  {
   "cell_type": "markdown",
   "metadata": {},
   "source": [
    "If we want to compare the balances of accounts with different native currencies we can also simply convert them to BTC:"
   ]
  },
  {
   "cell_type": "code",
   "execution_count": 28,
   "metadata": {},
   "outputs": [
    {
     "name": "stdout",
     "output_type": "stream",
     "text": [
      "{'BTC': 10.55438573}\n",
      "{'ETH': 694.8207412552113, 'KICK': 132.60140324607863, 'ZRX': 6.170078100587583, 'GNT': 3.626970990628187, 'DXT': 3.7852595047705466, 'STQ': 17.580197806941865, 'OMG': 9.874492009137445, 'HBZ': 32.105692049726464, 'GUSD': 0.836962785786022, 'DAI': 3.4880496403071417, 'MKR': 1.808717007740874}\n",
      "{'EOS': 29.954903121719994, 'CPU': 0.007214549999999999, 'NET': 0.06286965, 'DEL': 0.0, 'RAM': 0.3526919110993529, 'PKE': 1.4327129615079788}\n"
     ]
    }
   ],
   "source": [
    "print(btc_acc.balance_btc())\n",
    "print(eth_acc.balance_btc())\n",
    "print(eos_acc.balance_btc())"
   ]
  },
  {
   "cell_type": "markdown",
   "metadata": {},
   "source": [
    "# Creating a wallet\n",
    "The next step is to put these three accounts together in a Wallet instance so that we can easily see the combined worth, both denominated in the accounts' native currency or in BTC. The code below shows the combined balance of the three accounts used in the examples above:"
   ]
  },
  {
   "cell_type": "code",
   "execution_count": 29,
   "metadata": {},
   "outputs": [
    {
     "name": "stdout",
     "output_type": "stream",
     "text": [
      "{'EOS': 43596.1332, 'CPU': 10.5, 'NET': 91.5, 'DEL': 0.0, 'RAM': 8619434.0, 'PKE': 211048.5131, 'BTC': 10.55438573, 'ETH': 18333.001088528, 'KICK': 95185299.331471, 'ZRX': 76289.757037919, 'GNT': 203861.67124765, 'DXT': 5528242.8967322, 'STQ': 181674610.26384, 'OMG': 26281.325266648, 'HBZ': 261072503.70646998, 'GUSD': 3365.6, 'DAI': 14005.959513529999, 'MKR': 14.6043158}\n"
     ]
    }
   ],
   "source": [
    "w = Wallet(btc_acc, eth_acc, eos_acc)\n",
    "print(w.balance())"
   ]
  },
  {
   "cell_type": "markdown",
   "metadata": {},
   "source": [
    "To get the total worth of the wallet in BTC we simply use:"
   ]
  },
  {
   "cell_type": "code",
   "execution_count": 30,
   "metadata": {},
   "outputs": [
    {
     "name": "stdout",
     "output_type": "stream",
     "text": [
      "949.0633423212436\n"
     ]
    }
   ],
   "source": [
    "print(w.total_btc())"
   ]
  },
  {
   "cell_type": "markdown",
   "metadata": {},
   "source": [
    "The Wallet class also has a function to retrieve BTC/USD and BTC/EUR prices so it can show it's balances denominated in those currencies:"
   ]
  },
  {
   "cell_type": "code",
   "execution_count": 31,
   "metadata": {},
   "outputs": [
    {
     "name": "stdout",
     "output_type": "stream",
     "text": [
      "3813336.5094467564\n",
      "3327416.07817828\n"
     ]
    }
   ],
   "source": [
    "print(w.total_curr('USD'))\n",
    "print(w.total_curr('EUR'))"
   ]
  }
 ],
 "metadata": {
  "kernelspec": {
   "display_name": "Python 3",
   "language": "python",
   "name": "python3"
  },
  "language_info": {
   "codemirror_mode": {
    "name": "ipython",
    "version": 3
   },
   "file_extension": ".py",
   "mimetype": "text/x-python",
   "name": "python",
   "nbconvert_exporter": "python",
   "pygments_lexer": "ipython3",
   "version": "3.6.7"
  }
 },
 "nbformat": 4,
 "nbformat_minor": 2
}
