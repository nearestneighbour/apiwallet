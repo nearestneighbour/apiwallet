{
 "cells": [
  {
   "cell_type": "markdown",
   "metadata": {},
   "source": [
    "# Creating accounts\n",
    "Let's create a wallet, import several accounts to monitor and display the total wallet balance. Start by importing the wallet class and the relevant account classes:"
   ]
  },
  {
   "cell_type": "code",
   "execution_count": 1,
   "metadata": {},
   "outputs": [],
   "source": [
    "# This is necessary to be able to import the libraries from the other folders in the Github repo\n",
    "import sys\n",
    "sys.path.append('../')\n",
    "\n",
    "from wallet import Wallet\n",
    "from btc_address import btc_address\n",
    "from eth_address import eth_address\n",
    "from bitmex_account import bitmex_account"
   ]
  },
  {
   "cell_type": "markdown",
   "metadata": {},
   "source": [
    "Now let's create some account instances that we want to monitor. For this example, we'll create an account for a Bitcoin address, an Ethereum address and a Bitmex account, using the btc_address, eth_address and bitmex_account classes respectively. The Bitcoin address will, plain and simple, fetch it's current balance. The Ethereum address will do the same as well as load the balances of any ERC-20 tokens associated with the address. The Bitmex address will produce the total worth of the Bitmex account, i.e. the sum of the wallet balance and the unrealized profits, in BTC.\n",
    "\n",
    "Note: the public keys shown here are random public keys that happen to have a non-zero balance, I don't know who owns these addresses. The Bitmex account is a testnet account where you can only use testnet Bitcoin - for more info see: https://testnet.bitmex.com/"
   ]
  },
  {
   "cell_type": "code",
   "execution_count": 2,
   "metadata": {},
   "outputs": [],
   "source": [
    "btc_hot = btc_address(pubkey='3PbJsixkjmjzsjCpi4xAYxxaL5NnxrbF9B', meta={'name':'BTC hot wallet'})\n",
    "eth_cold = eth_address(pubkey='0xd7b9a9b2f665849c4071ad5af77d8c76aa30fb32', meta={'name':'ETH cold storage'})\n",
    "#bitmex = bitmex_account(api_key='ddd', api_secret='ddd', testnet=True)"
   ]
  },
  {
   "cell_type": "markdown",
   "metadata": {},
   "source": [
    "When initializing the account classes, the first parameter(s) are some kind of identification, public keys in the case of btc_address and eth_address, and API credentials for bitmex_account. This information is necessary for access to the relevant data. The meta parameter is an optional argument that can be used to pass extra information about the account that can be used for bookkeeping. In this example, it is indicated that the btc_address instance holds the public key of a BTC address used as a hot wallet, while the eth_address instance stores data for our ETH hot wallet. For the Bitmex account, we don't provide metadata, but we do specify that we are talking about a testnet account with the last parameter."
   ]
  },
  {
   "cell_type": "markdown",
   "metadata": {},
   "source": [
    "Now we have three Account instances that can retrieve balance data for us. To print the balances of these accounts we use the following commands:"
   ]
  },
  {
   "cell_type": "code",
   "execution_count": 3,
   "metadata": {},
   "outputs": [
    {
     "name": "stdout",
     "output_type": "stream",
     "text": [
      "{'BTC': 12.80128069}\n",
      "{'ETH': 3955345.7611600226}\n"
     ]
    }
   ],
   "source": [
    "print(btc_hot.balance) # show amount of BTC associated with address\n",
    "print(eth_cold.balance) # show combined worth of ETH and ERC-20 tokens associated with address\n",
    "#print(bitmex.balance) # show total worth of Bitmex account, in BTC"
   ]
  },
  {
   "cell_type": "markdown",
   "metadata": {},
   "source": [
    "This shows the accounts' balances in their native currency, which is BTC for the Bitcoin and Bitmex accounts, and ETH for the ETH account. Most account classes that don't have BTC as their native currency have an easy way to convert their native currency to BTC:"
   ]
  },
  {
   "cell_type": "code",
   "execution_count": 4,
   "metadata": {},
   "outputs": [
    {
     "name": "stdout",
     "output_type": "stream",
     "text": [
      "{'ETH': 137843.79977642678}\n"
     ]
    }
   ],
   "source": [
    "print(eth_cold.balance_curr('BTC'))"
   ]
  },
  {
   "cell_type": "markdown",
   "metadata": {},
   "source": [
    "An ETH address can contain multiple balances, not just ETH but token balances as well. We can list the balances separately for each currency by requesting the extended balance:"
   ]
  },
  {
   "cell_type": "code",
   "execution_count": 6,
   "metadata": {},
   "outputs": [
    {
     "name": "stdout",
     "output_type": "stream",
     "text": [
      "{'ETH': 12986.445649498, 'KICK': 685243.4450411269, 'ZRX': 469.9579112901534, 'GNT': 1443.9166092339578, 'DXT': 49052.19799116683, 'STQ': 1270961.32729643, 'OMG': 179.09223533447408, 'HBZ': 1934909.4374526476, 'GUSD': 42.96636672075527, 'DAI': 56.89222336281162, 'MKR': 0.08238321138811033}\n"
     ]
    }
   ],
   "source": [
    "print(eth_cold.balance_extended)"
   ]
  },
  {
   "cell_type": "markdown",
   "metadata": {},
   "source": [
    "And convert these balances to the native currency of the Account instance so we can easily compare them:"
   ]
  },
  {
   "cell_type": "code",
   "execution_count": 8,
   "metadata": {},
   "outputs": [
    {
     "name": "stdout",
     "output_type": "stream",
     "text": [
      "{'ETH': 12986.445649498, 'KICK': 685243.4450411269, 'ZRX': 469.9579112901534, 'GNT': 1443.9166092339578, 'DXT': 49052.19799116683, 'STQ': 1270961.32729643, 'OMG': 179.09223533447408, 'HBZ': 1934909.4374526476, 'GUSD': 42.96636672075527, 'DAI': 56.89222336281162, 'MKR': 0.08238321138811033}\n"
     ]
    }
   ],
   "source": [
    "print(eth_cold.balance_extended_native)"
   ]
  },
  {
   "cell_type": "markdown",
   "metadata": {},
   "source": [
    "# Creating a wallet\n",
    "The next step is to put these three together in a Wallet instance so that we can easily see the combined worth, both denominated in the accounts' native currency or in BTC:"
   ]
  },
  {
   "cell_type": "code",
   "execution_count": 9,
   "metadata": {},
   "outputs": [
    {
     "name": "stdout",
     "output_type": "stream",
     "text": [
      "{'BTC': 12.80128069, 'ETH': 3955345.7611600226}\n"
     ]
    }
   ],
   "source": [
    "w = Wallet(btc_hot, eth_cold)#, bitmex)\n",
    "print(w.balance)"
   ]
  },
  {
   "cell_type": "markdown",
   "metadata": {},
   "source": [
    "The Wallet class also has a function to retrieve BTC/USD and BTC/EUR prices so it can show it's balances denominated in those currencies:"
   ]
  },
  {
   "cell_type": "code",
   "execution_count": 10,
   "metadata": {},
   "outputs": [
    {
     "name": "stdout",
     "output_type": "stream",
     "text": [
      "{'BTC': 12.80128069, 'ETH': 137843.79977642678}\n"
     ]
    }
   ],
   "source": [
    "print(w.balance_btc)"
   ]
  },
  {
   "cell_type": "code",
   "execution_count": null,
   "metadata": {},
   "outputs": [],
   "source": []
  },
  {
   "cell_type": "code",
   "execution_count": null,
   "metadata": {},
   "outputs": [],
   "source": []
  }
 ],
 "metadata": {
  "kernelspec": {
   "display_name": "Python 3",
   "language": "python",
   "name": "python3"
  },
  "language_info": {
   "codemirror_mode": {
    "name": "ipython",
    "version": 3
   },
   "file_extension": ".py",
   "mimetype": "text/x-python",
   "name": "python",
   "nbconvert_exporter": "python",
   "pygments_lexer": "ipython3",
   "version": "3.6.7"
  }
 },
 "nbformat": 4,
 "nbformat_minor": 2
}
